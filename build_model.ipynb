{
 "cells": [
  {
   "cell_type": "markdown",
   "metadata": {},
   "source": [
    "**Target: Xây dựng mô hình phân loại khả năng trả nợ khoản vay của khách hàng, sau đó chuyển từ xác xuất sang điểm tín dụng. Lúc này bài toán chuyển từ dạng phân loại sang dự đoán (điểm tín dụng).**"
   ]
  },
  {
   "cell_type": "code",
   "execution_count": null,
   "metadata": {
    "vscode": {
     "languageId": "plaintext"
    }
   },
   "outputs": [],
   "source": []
  }
 ],
 "metadata": {
  "language_info": {
   "name": "python"
  }
 },
 "nbformat": 4,
 "nbformat_minor": 2
}
