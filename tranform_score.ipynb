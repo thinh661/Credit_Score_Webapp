{
 "cells": [
  {
   "cell_type": "code",
   "execution_count": null,
   "metadata": {},
   "outputs": [],
   "source": [
    "# Code đổi từ xác suất sang điểm tín dụng\n",
    "\n",
    "\n",
    "import numpy as np\n",
    "\n",
    "def scale_score(p):\n",
    "    factor = 25/np.log(2)\n",
    "    offset = 600 - factor*np.log(50)\n",
    "    val = (1-p)/p\n",
    "    score = offset + factor * np.log(val)\n",
    "    return round(score)\n",
    "\n",
    "pred_proba_test = model_final.predict_proba(X_test_tmp)[:,1]\n",
    "X_test['PRO'] = pred_proba_test\n",
    "X_test['SCORE'] = X_test['PRO'].apply(lambda x: scale_score(x))\n",
    "    "
   ]
  }
 ],
 "metadata": {
  "language_info": {
   "name": "python"
  }
 },
 "nbformat": 4,
 "nbformat_minor": 2
}
